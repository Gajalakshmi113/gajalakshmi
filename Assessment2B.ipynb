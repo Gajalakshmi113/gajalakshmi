{
 "cells": [
  {
   "cell_type": "markdown",
   "metadata": {},
   "source": [
    "###### Assessment"
   ]
  },
  {
   "cell_type": "markdown",
   "metadata": {},
   "source": [
    "###### I am going to provide two .csv files , you are supposed to work on them and have to provide solutions to the following problems"
   ]
  },
  {
   "cell_type": "markdown",
   "metadata": {},
   "source": [
    "###### import necessary libraries"
   ]
  },
  {
   "cell_type": "code",
   "execution_count": 75,
   "metadata": {},
   "outputs": [],
   "source": [
    "import numpy as np \n",
    "import pandas as pd\n",
    "import sklearn as sns\n",
    "from sklearn import preprocessing\n",
    "from sklearn.preprocessing import OrdinalEncoder\n",
    "from sklearn.preprocessing import OneHotEncoder\n",
    "import matplotlib.pyplot as plt\n",
    "import os"
   ]
  },
  {
   "cell_type": "markdown",
   "metadata": {},
   "source": [
    "###### merge those two csv files (after getting as dataframes, get them as a single dataframe)"
   ]
  },
  {
   "cell_type": "code",
   "execution_count": 58,
   "metadata": {},
   "outputs": [
    {
     "data": {
      "text/html": [
       "<div>\n",
       "<style scoped>\n",
       "    .dataframe tbody tr th:only-of-type {\n",
       "        vertical-align: middle;\n",
       "    }\n",
       "\n",
       "    .dataframe tbody tr th {\n",
       "        vertical-align: top;\n",
       "    }\n",
       "\n",
       "    .dataframe thead th {\n",
       "        text-align: right;\n",
       "    }\n",
       "</style>\n",
       "<table border=\"1\" class=\"dataframe\">\n",
       "  <thead>\n",
       "    <tr style=\"text-align: right;\">\n",
       "      <th></th>\n",
       "      <th>python</th>\n",
       "      <th>mysql</th>\n",
       "      <th>Previous Geekions</th>\n",
       "      <th>CodeKata Score</th>\n",
       "      <th>Rising</th>\n",
       "      <th>python_en</th>\n",
       "      <th>computational_thinking</th>\n",
       "    </tr>\n",
       "  </thead>\n",
       "  <tbody>\n",
       "    <tr>\n",
       "      <th>count</th>\n",
       "      <td>119.000000</td>\n",
       "      <td>119.000000</td>\n",
       "      <td>119.000000</td>\n",
       "      <td>119.000000</td>\n",
       "      <td>119.000000</td>\n",
       "      <td>35.000000</td>\n",
       "      <td>35.000000</td>\n",
       "    </tr>\n",
       "    <tr>\n",
       "      <th>mean</th>\n",
       "      <td>54.352941</td>\n",
       "      <td>23.500000</td>\n",
       "      <td>3842.352941</td>\n",
       "      <td>4051.764706</td>\n",
       "      <td>209.411765</td>\n",
       "      <td>29.657143</td>\n",
       "      <td>2.200000</td>\n",
       "    </tr>\n",
       "    <tr>\n",
       "      <th>std</th>\n",
       "      <td>44.272526</td>\n",
       "      <td>33.276671</td>\n",
       "      <td>4406.339992</td>\n",
       "      <td>4551.951881</td>\n",
       "      <td>553.445746</td>\n",
       "      <td>30.582524</td>\n",
       "      <td>7.015948</td>\n",
       "    </tr>\n",
       "    <tr>\n",
       "      <th>min</th>\n",
       "      <td>-1.000000</td>\n",
       "      <td>-1.000000</td>\n",
       "      <td>0.000000</td>\n",
       "      <td>0.000000</td>\n",
       "      <td>0.000000</td>\n",
       "      <td>-1.000000</td>\n",
       "      <td>-1.000000</td>\n",
       "    </tr>\n",
       "    <tr>\n",
       "      <th>25%</th>\n",
       "      <td>0.000000</td>\n",
       "      <td>0.000000</td>\n",
       "      <td>740.000000</td>\n",
       "      <td>740.000000</td>\n",
       "      <td>0.000000</td>\n",
       "      <td>0.000000</td>\n",
       "      <td>0.000000</td>\n",
       "    </tr>\n",
       "    <tr>\n",
       "      <th>50%</th>\n",
       "      <td>82.000000</td>\n",
       "      <td>4.000000</td>\n",
       "      <td>2410.000000</td>\n",
       "      <td>2410.000000</td>\n",
       "      <td>0.000000</td>\n",
       "      <td>20.000000</td>\n",
       "      <td>0.000000</td>\n",
       "    </tr>\n",
       "    <tr>\n",
       "      <th>75%</th>\n",
       "      <td>100.000000</td>\n",
       "      <td>33.000000</td>\n",
       "      <td>5340.000000</td>\n",
       "      <td>5975.000000</td>\n",
       "      <td>0.000000</td>\n",
       "      <td>52.000000</td>\n",
       "      <td>0.000000</td>\n",
       "    </tr>\n",
       "    <tr>\n",
       "      <th>max</th>\n",
       "      <td>100.000000</td>\n",
       "      <td>100.000000</td>\n",
       "      <td>24500.000000</td>\n",
       "      <td>24500.000000</td>\n",
       "      <td>3140.000000</td>\n",
       "      <td>100.000000</td>\n",
       "      <td>39.000000</td>\n",
       "    </tr>\n",
       "  </tbody>\n",
       "</table>\n",
       "</div>"
      ],
      "text/plain": [
       "           python       mysql  Previous Geekions  CodeKata Score       Rising  \\\n",
       "count  119.000000  119.000000         119.000000      119.000000   119.000000   \n",
       "mean    54.352941   23.500000        3842.352941     4051.764706   209.411765   \n",
       "std     44.272526   33.276671        4406.339992     4551.951881   553.445746   \n",
       "min     -1.000000   -1.000000           0.000000        0.000000     0.000000   \n",
       "25%      0.000000    0.000000         740.000000      740.000000     0.000000   \n",
       "50%     82.000000    4.000000        2410.000000     2410.000000     0.000000   \n",
       "75%    100.000000   33.000000        5340.000000     5975.000000     0.000000   \n",
       "max    100.000000  100.000000       24500.000000    24500.000000  3140.000000   \n",
       "\n",
       "        python_en  computational_thinking  \n",
       "count   35.000000               35.000000  \n",
       "mean    29.657143                2.200000  \n",
       "std     30.582524                7.015948  \n",
       "min     -1.000000               -1.000000  \n",
       "25%      0.000000                0.000000  \n",
       "50%     20.000000                0.000000  \n",
       "75%     52.000000                0.000000  \n",
       "max    100.000000               39.000000  "
      ]
     },
     "execution_count": 58,
     "metadata": {},
     "output_type": "execute_result"
    }
   ],
   "source": [
    "file1=pd.read_csv(\"C://Users//lenovo//Downloads//college_1.csv\")\n",
    "file2=pd.read_csv(\"C://Users//lenovo//Downloads//college_2.csv\")\n",
    "#file2.info()\n",
    "merged_file=pd.concat([file1,file2])\n",
    "merged_file.describe()"
   ]
  },
  {
   "cell_type": "code",
   "execution_count": 59,
   "metadata": {},
   "outputs": [
    {
     "name": "stdout",
     "output_type": "stream",
     "text": [
      "Index(['name', 'python', 'mysql', 'previous_geekions', 'codekata_score',\n",
      "       'department', 'rising', 'python_en', 'computational_thinking'],\n",
      "      dtype='object')\n"
     ]
    }
   ],
   "source": [
    "merged_file.columns= merged_file.columns.str.strip().str.lower().str.replace(' ', '_').str.replace('(', '').str.replace(')', '')\n",
    "print(merged_file.columns)"
   ]
  },
  {
   "cell_type": "markdown",
   "metadata": {},
   "source": [
    "###### Take each csv file , split that csv file into multiple categories (example csv files are added in the repo) \n"
   ]
  },
  {
   "cell_type": "markdown",
   "metadata": {},
   "source": [
    "###### consider if the codekata score exceeds 15000 points(present week) then make a csv on those observations as Exceeded expectations.csv\n"
   ]
  },
  {
   "cell_type": "code",
   "execution_count": 60,
   "metadata": {},
   "outputs": [
    {
     "name": "stdout",
     "output_type": "stream",
     "text": [
      "            name  python  mysql  previous_geekions  codekata_score  \\\n",
      "0      A.Dharani    82.0   20.0              24500           24500   \n",
      "1    V.JEEVITHA     82.0   20.0              21740           21740   \n",
      "2    HEMAVATHI.R   100.0  100.0              19680           19680   \n",
      "3  ASHOK KUMAR K   100.0   31.0              19400           19400   \n",
      "\n",
      "                               department  rising  python_en  \\\n",
      "0        Computer Science and Engineering       0        NaN   \n",
      "1        Computer Science and Engineering       0        NaN   \n",
      "2        Computer Science and Engineering       0        NaN   \n",
      "3  Electronics and Electrical Engineering       0        0.0   \n",
      "\n",
      "   computational_thinking  \n",
      "0                     NaN  \n",
      "1                     NaN  \n",
      "2                     NaN  \n",
      "3                     9.0  \n"
     ]
    }
   ],
   "source": [
    "exceeded_exct=merged_file[merged_file['codekata_score']>15000]\n",
    "exceeded_exct.to_csv(\"Exceeded_Expectation\",index=False)\n",
    "print(pd.read_csv('Exceeded_Expectation'))\n"
   ]
  },
  {
   "cell_type": "markdown",
   "metadata": {},
   "source": [
    "###### if  10000<codekata score<15000   (Reached_expectations.csv)\n",
    "\n"
   ]
  },
  {
   "cell_type": "code",
   "execution_count": 61,
   "metadata": {},
   "outputs": [
    {
     "name": "stdout",
     "output_type": "stream",
     "text": [
      "                name  python  mysql  previous_geekions  codekata_score  \\\n",
      "0        Mugunthan S   100.0   47.0              10610           10610   \n",
      "1            Chandru     0.0    0.0              14150           14490   \n",
      "2  Ganesh Ramkumar R    -1.0   24.0               8790           10790   \n",
      "3    Bodipudi Harini    -1.0   35.0              10040           10040   \n",
      "\n",
      "                                  department  rising  python_en  \\\n",
      "0           Computer Science and Engineering       0        NaN   \n",
      "1           Computer Science and Engineering     340       20.0   \n",
      "2           Computer Science and Engineering    2000       55.0   \n",
      "3  Electronics and Communication Engineering       0        0.0   \n",
      "\n",
      "   computational_thinking  \n",
      "0                     NaN  \n",
      "1                     0.0  \n",
      "2                     6.0  \n",
      "3                    -1.0  \n"
     ]
    }
   ],
   "source": [
    "reached_exct=merged_file[merged_file['codekata_score']>=10000]\n",
    "reached_exct=reached_exct[reached_exct[\"codekata_score\"]<15000]\n",
    "\n",
    "#print(reached_exct)\n",
    "reached_exct.to_csv(\"Reached_Expectation\",index=False)\n",
    "print(pd.read_csv('Reached_Expectation'))\n"
   ]
  },
  {
   "cell_type": "markdown",
   "metadata": {},
   "source": [
    "###### if  7000<codekata score<10000   (Needs_Improvement.csv)\n"
   ]
  },
  {
   "cell_type": "code",
   "execution_count": 62,
   "metadata": {},
   "outputs": [
    {
     "name": "stdout",
     "output_type": "stream",
     "text": [
      "                      name  python  mysql  previous_geekions  codekata_score  \\\n",
      "0              Sathammai.S   100.0    8.0               8980            8980   \n",
      "1             NIVEESHWAR S   100.0    0.0               8200            8200   \n",
      "2            KALAIARASAN K    85.0   47.0               7750            7880   \n",
      "3     MOHAMED ZUBAIR AHMED    82.0    4.0               7020            7020   \n",
      "4                VIINU V P    -1.0   24.0               9150            9150   \n",
      "5               Poojitha Y     0.0   35.0               7210            8970   \n",
      "6   Gowtham Chandrasekaran    -1.0    0.0               7250            8950   \n",
      "7                Gowtham R    -1.0    4.0               8650            8650   \n",
      "8                 shifak N    58.0    0.0               5180            8320   \n",
      "9                  Balaji     -1.0   20.0               6170            8160   \n",
      "10                Rushitha    -1.0   62.0               7470            8090   \n",
      "11    Balaraman Muthupandi    -1.0    0.0               7670            8050   \n",
      "12                JPradhap   100.0    0.0               7340            8030   \n",
      "13           SRIRAMKUMAR B    -1.0    0.0               6400            7940   \n",
      "14               Praneetha    -1.0  100.0               7170            7730   \n",
      "15             Rahul Raj K    -1.0    0.0               6280            7640   \n",
      "16                 Guhan S    -1.0   35.0               7310            7630   \n",
      "17            Suryarajan S    -1.0   31.0               6710            7550   \n",
      "\n",
      "                                   department  rising  python_en  \\\n",
      "0            Computer Science and Engineering       0        NaN   \n",
      "1            Computer Science and Engineering       0        NaN   \n",
      "2   Electronics and Communication Engineering     130        NaN   \n",
      "3            Computer Science and Engineering       0        NaN   \n",
      "4      Electronics and Electrical Engineering       0      100.0   \n",
      "5            Computer Science and Engineering    1760       78.0   \n",
      "6            Computer Science and Engineering    1700        0.0   \n",
      "7   Electronics and Communication Engineering       0       60.0   \n",
      "8      Electronics and Electrical Engineering    3140        0.0   \n",
      "9      Electronics and Electrical Engineering    1990      100.0   \n",
      "10           Computer Science and Engineering     620       15.0   \n",
      "11           Computer Science and Engineering     380        9.0   \n",
      "12     Electronics and Electrical Engineering     690        0.0   \n",
      "13           Computer Science and Engineering    1540        0.0   \n",
      "14  Electronics and Communication Engineering     560       23.0   \n",
      "15           Computer Science and Engineering    1360        0.0   \n",
      "16  Electronics and Communication Engineering     320       72.0   \n",
      "17           Computer Science and Engineering     840       63.0   \n",
      "\n",
      "    computational_thinking  \n",
      "0                      NaN  \n",
      "1                      NaN  \n",
      "2                      NaN  \n",
      "3                      NaN  \n",
      "4                     -1.0  \n",
      "5                      0.0  \n",
      "6                      3.0  \n",
      "7                      6.0  \n",
      "8                      0.0  \n",
      "9                      0.0  \n",
      "10                     9.0  \n",
      "11                     0.0  \n",
      "12                     0.0  \n",
      "13                     0.0  \n",
      "14                    -1.0  \n",
      "15                     0.0  \n",
      "16                    39.0  \n",
      "17                     0.0  \n"
     ]
    }
   ],
   "source": [
    "needs_imp=merged_file[merged_file['codekata_score']>7000]\n",
    "needs_imp=needs_imp[needs_imp['codekata_score']<10000]\n",
    "needs_imp.to_csv(\"Needs Improvement\",index=False)\n",
    "print(pd.read_csv('Needs Improvement'))\n"
   ]
  },
  {
   "cell_type": "markdown",
   "metadata": {},
   "source": [
    "###### if  codekate score < 7000        (Unsatisfactory.csv)"
   ]
  },
  {
   "cell_type": "code",
   "execution_count": 63,
   "metadata": {},
   "outputs": [
    {
     "name": "stdout",
     "output_type": "stream",
     "text": [
      "               name  python  mysql  previous_geekions  codekata_score  \\\n",
      "0        J.SUGANTHI    27.0  50.00               5860            5860   \n",
      "1      thamizhpaana    29.0   0.00               5500            5500   \n",
      "2   Iyappan Samiraj    50.0  24.00               5400            5400   \n",
      "3      Ponniyamma.R   100.0  11.25               5380            5380   \n",
      "4         SABAPATHI   100.0   0.00               5280            5280   \n",
      "..              ...     ...    ...                ...             ...   \n",
      "88    praveen raj j    24.0   0.00               2380            2380   \n",
      "89       AMARNATH D    -1.0  12.00               1890            1890   \n",
      "90             bala    32.0   0.00               1720            1720   \n",
      "91             XY Z    -1.0  -1.00                  0               0   \n",
      "92        Hariharan    -1.0  -1.00                  0               0   \n",
      "\n",
      "                                   department  rising  python_en  \\\n",
      "0   Electronics and Communication Engineering       0        NaN   \n",
      "1            Computer Science and Engineering       0        NaN   \n",
      "2   Electronics and Communication Engineering       0        NaN   \n",
      "3            Computer Science and Engineering       0        NaN   \n",
      "4            Computer Science and Engineering       0        NaN   \n",
      "..                                        ...     ...        ...   \n",
      "88           Computer Science and Engineering       0       -1.0   \n",
      "89  Electronics and Communication Engineering       0       52.0   \n",
      "90  Electronics and Communication Engineering       0       49.0   \n",
      "91           Computer Science and Engineering       0       20.0   \n",
      "92           Computer Science and Engineering       0       -1.0   \n",
      "\n",
      "    computational_thinking  \n",
      "0                      NaN  \n",
      "1                      NaN  \n",
      "2                      NaN  \n",
      "3                      NaN  \n",
      "4                      NaN  \n",
      "..                     ...  \n",
      "88                     0.0  \n",
      "89                    -1.0  \n",
      "90                    -1.0  \n",
      "91                    -1.0  \n",
      "92                     0.0  \n",
      "\n",
      "[93 rows x 9 columns]\n"
     ]
    }
   ],
   "source": [
    "unsatis=merged_file[merged_file['codekata_score']<7000]\n",
    "unsatis.to_csv(\"Unsatisfactory\",index=False)\n",
    "print(pd.read_csv('Unsatisfactory'))\n"
   ]
  },
  {
   "cell_type": "markdown",
   "metadata": {},
   "source": [
    "###### Average of previous week geekions vs this week geekions (i.e Previous Geekions vs CodeKata Score)"
   ]
  },
  {
   "cell_type": "code",
   "execution_count": 64,
   "metadata": {},
   "outputs": [
    {
     "name": "stdout",
     "output_type": "stream",
     "text": [
      "3842.3529411764707 4051.764705882353\n"
     ]
    }
   ],
   "source": [
    "p=merged_file['previous_geekions'].mean()\n",
    "l=merged_file['codekata_score'].mean()\n",
    "print(p,l)\n"
   ]
  },
  {
   "cell_type": "markdown",
   "metadata": {},
   "source": [
    "###### No of students participated "
   ]
  },
  {
   "cell_type": "code",
   "execution_count": 130,
   "metadata": {},
   "outputs": [
    {
     "data": {
      "text/plain": [
       "name    119\n",
       "dtype: int64"
      ]
     },
     "execution_count": 130,
     "metadata": {},
     "output_type": "execute_result"
    }
   ],
   "source": [
    "mf[[\"name\"]].count()\n"
   ]
  },
  {
   "cell_type": "markdown",
   "metadata": {},
   "source": [
    "###### #Average completion of python course or my_sql or python english or computational thinking"
   ]
  },
  {
   "cell_type": "code",
   "execution_count": 66,
   "metadata": {},
   "outputs": [
    {
     "data": {
      "text/plain": [
       "python                    54.352941\n",
       "python_en                 29.657143\n",
       "mysql                     23.500000\n",
       "computational_thinking     2.200000\n",
       "dtype: float64"
      ]
     },
     "execution_count": 66,
     "metadata": {},
     "output_type": "execute_result"
    }
   ],
   "source": [
    "merged_file[['python','python_en','mysql','computational_thinking']].mean()"
   ]
  },
  {
   "cell_type": "markdown",
   "metadata": {},
   "source": [
    "###### rising star of the week (top 3 candidate who performed well in that particular week)"
   ]
  },
  {
   "cell_type": "code",
   "execution_count": 67,
   "metadata": {},
   "outputs": [
    {
     "data": {
      "text/html": [
       "<div>\n",
       "<style scoped>\n",
       "    .dataframe tbody tr th:only-of-type {\n",
       "        vertical-align: middle;\n",
       "    }\n",
       "\n",
       "    .dataframe tbody tr th {\n",
       "        vertical-align: top;\n",
       "    }\n",
       "\n",
       "    .dataframe thead th {\n",
       "        text-align: right;\n",
       "    }\n",
       "</style>\n",
       "<table border=\"1\" class=\"dataframe\">\n",
       "  <thead>\n",
       "    <tr style=\"text-align: right;\">\n",
       "      <th></th>\n",
       "      <th>name</th>\n",
       "      <th>python</th>\n",
       "      <th>mysql</th>\n",
       "      <th>previous_geekions</th>\n",
       "      <th>codekata_score</th>\n",
       "      <th>department</th>\n",
       "      <th>rising</th>\n",
       "      <th>python_en</th>\n",
       "      <th>computational_thinking</th>\n",
       "    </tr>\n",
       "  </thead>\n",
       "  <tbody>\n",
       "    <tr>\n",
       "      <th>0</th>\n",
       "      <td>A.Dharani</td>\n",
       "      <td>82.0</td>\n",
       "      <td>20.0</td>\n",
       "      <td>24500</td>\n",
       "      <td>24500</td>\n",
       "      <td>Computer Science and Engineering</td>\n",
       "      <td>0</td>\n",
       "      <td>NaN</td>\n",
       "      <td>NaN</td>\n",
       "    </tr>\n",
       "    <tr>\n",
       "      <th>1</th>\n",
       "      <td>V.JEEVITHA</td>\n",
       "      <td>82.0</td>\n",
       "      <td>20.0</td>\n",
       "      <td>21740</td>\n",
       "      <td>21740</td>\n",
       "      <td>Computer Science and Engineering</td>\n",
       "      <td>0</td>\n",
       "      <td>NaN</td>\n",
       "      <td>NaN</td>\n",
       "    </tr>\n",
       "    <tr>\n",
       "      <th>2</th>\n",
       "      <td>HEMAVATHI.R</td>\n",
       "      <td>100.0</td>\n",
       "      <td>100.0</td>\n",
       "      <td>19680</td>\n",
       "      <td>19680</td>\n",
       "      <td>Computer Science and Engineering</td>\n",
       "      <td>0</td>\n",
       "      <td>NaN</td>\n",
       "      <td>NaN</td>\n",
       "    </tr>\n",
       "    <tr>\n",
       "      <th>0</th>\n",
       "      <td>ASHOK KUMAR K</td>\n",
       "      <td>100.0</td>\n",
       "      <td>31.0</td>\n",
       "      <td>19400</td>\n",
       "      <td>19400</td>\n",
       "      <td>Electronics and Electrical Engineering</td>\n",
       "      <td>0</td>\n",
       "      <td>0.0</td>\n",
       "      <td>9.0</td>\n",
       "    </tr>\n",
       "    <tr>\n",
       "      <th>1</th>\n",
       "      <td>Chandru</td>\n",
       "      <td>0.0</td>\n",
       "      <td>0.0</td>\n",
       "      <td>14150</td>\n",
       "      <td>14490</td>\n",
       "      <td>Computer Science and Engineering</td>\n",
       "      <td>340</td>\n",
       "      <td>20.0</td>\n",
       "      <td>0.0</td>\n",
       "    </tr>\n",
       "  </tbody>\n",
       "</table>\n",
       "</div>"
      ],
      "text/plain": [
       "            name  python  mysql  previous_geekions  codekata_score  \\\n",
       "0      A.Dharani    82.0   20.0              24500           24500   \n",
       "1    V.JEEVITHA     82.0   20.0              21740           21740   \n",
       "2    HEMAVATHI.R   100.0  100.0              19680           19680   \n",
       "0  ASHOK KUMAR K   100.0   31.0              19400           19400   \n",
       "1        Chandru     0.0    0.0              14150           14490   \n",
       "\n",
       "                               department  rising  python_en  \\\n",
       "0        Computer Science and Engineering       0        NaN   \n",
       "1        Computer Science and Engineering       0        NaN   \n",
       "2        Computer Science and Engineering       0        NaN   \n",
       "0  Electronics and Electrical Engineering       0        0.0   \n",
       "1        Computer Science and Engineering     340       20.0   \n",
       "\n",
       "   computational_thinking  \n",
       "0                     NaN  \n",
       "1                     NaN  \n",
       "2                     NaN  \n",
       "0                     9.0  \n",
       "1                     0.0  "
      ]
     },
     "execution_count": 67,
     "metadata": {},
     "output_type": "execute_result"
    }
   ],
   "source": [
    "mf=merged_file\n",
    "mf.nlargest(5,[\"codekata_score\"])"
   ]
  },
  {
   "cell_type": "markdown",
   "metadata": {},
   "source": [
    "###### Shining stars of the week (top 3 candidates who has highest geekions)"
   ]
  },
  {
   "cell_type": "code",
   "execution_count": 68,
   "metadata": {},
   "outputs": [
    {
     "data": {
      "text/html": [
       "<div>\n",
       "<style scoped>\n",
       "    .dataframe tbody tr th:only-of-type {\n",
       "        vertical-align: middle;\n",
       "    }\n",
       "\n",
       "    .dataframe tbody tr th {\n",
       "        vertical-align: top;\n",
       "    }\n",
       "\n",
       "    .dataframe thead th {\n",
       "        text-align: right;\n",
       "    }\n",
       "</style>\n",
       "<table border=\"1\" class=\"dataframe\">\n",
       "  <thead>\n",
       "    <tr style=\"text-align: right;\">\n",
       "      <th></th>\n",
       "      <th>name</th>\n",
       "      <th>python</th>\n",
       "      <th>mysql</th>\n",
       "      <th>previous_geekions</th>\n",
       "      <th>codekata_score</th>\n",
       "      <th>department</th>\n",
       "      <th>rising</th>\n",
       "      <th>python_en</th>\n",
       "      <th>computational_thinking</th>\n",
       "    </tr>\n",
       "  </thead>\n",
       "  <tbody>\n",
       "    <tr>\n",
       "      <th>0</th>\n",
       "      <td>A.Dharani</td>\n",
       "      <td>82.0</td>\n",
       "      <td>20.0</td>\n",
       "      <td>24500</td>\n",
       "      <td>24500</td>\n",
       "      <td>Computer Science and Engineering</td>\n",
       "      <td>0</td>\n",
       "      <td>NaN</td>\n",
       "      <td>NaN</td>\n",
       "    </tr>\n",
       "    <tr>\n",
       "      <th>1</th>\n",
       "      <td>V.JEEVITHA</td>\n",
       "      <td>82.0</td>\n",
       "      <td>20.0</td>\n",
       "      <td>21740</td>\n",
       "      <td>21740</td>\n",
       "      <td>Computer Science and Engineering</td>\n",
       "      <td>0</td>\n",
       "      <td>NaN</td>\n",
       "      <td>NaN</td>\n",
       "    </tr>\n",
       "    <tr>\n",
       "      <th>2</th>\n",
       "      <td>HEMAVATHI.R</td>\n",
       "      <td>100.0</td>\n",
       "      <td>100.0</td>\n",
       "      <td>19680</td>\n",
       "      <td>19680</td>\n",
       "      <td>Computer Science and Engineering</td>\n",
       "      <td>0</td>\n",
       "      <td>NaN</td>\n",
       "      <td>NaN</td>\n",
       "    </tr>\n",
       "  </tbody>\n",
       "</table>\n",
       "</div>"
      ],
      "text/plain": [
       "          name  python  mysql  previous_geekions  codekata_score  \\\n",
       "0    A.Dharani    82.0   20.0              24500           24500   \n",
       "1  V.JEEVITHA     82.0   20.0              21740           21740   \n",
       "2  HEMAVATHI.R   100.0  100.0              19680           19680   \n",
       "\n",
       "                         department  rising  python_en  computational_thinking  \n",
       "0  Computer Science and Engineering       0        NaN                     NaN  \n",
       "1  Computer Science and Engineering       0        NaN                     NaN  \n",
       "2  Computer Science and Engineering       0        NaN                     NaN  "
      ]
     },
     "execution_count": 68,
     "metadata": {},
     "output_type": "execute_result"
    }
   ],
   "source": [
    "mf.nlargest(3,[\"previous_geekions\"])\n",
    "\n",
    "    "
   ]
  },
  {
   "cell_type": "markdown",
   "metadata": {},
   "source": [
    "###### Department wise codekata performence (pie chart)"
   ]
  },
  {
   "cell_type": "code",
   "execution_count": 105,
   "metadata": {},
   "outputs": [
    {
     "name": "stdout",
     "output_type": "stream",
     "text": [
      "[0 1 2]\n"
     ]
    }
   ],
   "source": [
    "from sklearn.preprocessing import LabelEncoder\n",
    "encoder=LabelEncoder()\n",
    "mf[\"department\"]=encoder.fit_transform(mf[\"department\"].astype('str'))\n",
    "print(mf[\"department\"].unique())\n",
    "\n"
   ]
  },
  {
   "cell_type": "code",
   "execution_count": 113,
   "metadata": {},
   "outputs": [
    {
     "data": {
      "text/plain": [
       "([<matplotlib.patches.Wedge at 0x2b781042bb0>,\n",
       "  <matplotlib.patches.Wedge at 0x2b78104f0d0>,\n",
       "  <matplotlib.patches.Wedge at 0x2b78104f4f0>,\n",
       "  <matplotlib.patches.Wedge at 0x2b78104f910>,\n",
       "  <matplotlib.patches.Wedge at 0x2b78104fd30>,\n",
       "  <matplotlib.patches.Wedge at 0x2b781060190>,\n",
       "  <matplotlib.patches.Wedge at 0x2b7810605b0>,\n",
       "  <matplotlib.patches.Wedge at 0x2b7810609d0>,\n",
       "  <matplotlib.patches.Wedge at 0x2b781060df0>,\n",
       "  <matplotlib.patches.Wedge at 0x2b78106f250>,\n",
       "  <matplotlib.patches.Wedge at 0x2b781027d00>,\n",
       "  <matplotlib.patches.Wedge at 0x2b78106fa60>,\n",
       "  <matplotlib.patches.Wedge at 0x2b78106fe20>,\n",
       "  <matplotlib.patches.Wedge at 0x2b78107e280>,\n",
       "  <matplotlib.patches.Wedge at 0x2b78107e6a0>,\n",
       "  <matplotlib.patches.Wedge at 0x2b78107eac0>,\n",
       "  <matplotlib.patches.Wedge at 0x2b78107eee0>,\n",
       "  <matplotlib.patches.Wedge at 0x2b78108c340>,\n",
       "  <matplotlib.patches.Wedge at 0x2b78108c760>,\n",
       "  <matplotlib.patches.Wedge at 0x2b78108cb80>,\n",
       "  <matplotlib.patches.Wedge at 0x2b78108cfa0>,\n",
       "  <matplotlib.patches.Wedge at 0x2b78109b400>,\n",
       "  <matplotlib.patches.Wedge at 0x2b78109b820>,\n",
       "  <matplotlib.patches.Wedge at 0x2b78109bc40>,\n",
       "  <matplotlib.patches.Wedge at 0x2b7810a80a0>,\n",
       "  <matplotlib.patches.Wedge at 0x2b7810a84c0>,\n",
       "  <matplotlib.patches.Wedge at 0x2b7810a88e0>,\n",
       "  <matplotlib.patches.Wedge at 0x2b7810a8d00>,\n",
       "  <matplotlib.patches.Wedge at 0x2b7810b7160>,\n",
       "  <matplotlib.patches.Wedge at 0x2b7810b7580>,\n",
       "  <matplotlib.patches.Wedge at 0x2b7810b79a0>,\n",
       "  <matplotlib.patches.Wedge at 0x2b7810b7dc0>,\n",
       "  <matplotlib.patches.Wedge at 0x2b7810c6220>,\n",
       "  <matplotlib.patches.Wedge at 0x2b7810c6640>,\n",
       "  <matplotlib.patches.Wedge at 0x2b7810c6a60>,\n",
       "  <matplotlib.patches.Wedge at 0x2b7810c6e80>,\n",
       "  <matplotlib.patches.Wedge at 0x2b7810d32e0>,\n",
       "  <matplotlib.patches.Wedge at 0x2b7810d3700>,\n",
       "  <matplotlib.patches.Wedge at 0x2b7810d3b20>,\n",
       "  <matplotlib.patches.Wedge at 0x2b7810d3f40>,\n",
       "  <matplotlib.patches.Wedge at 0x2b7810e23a0>,\n",
       "  <matplotlib.patches.Wedge at 0x2b7810e27c0>,\n",
       "  <matplotlib.patches.Wedge at 0x2b7810e2be0>,\n",
       "  <matplotlib.patches.Wedge at 0x2b7810e2fd0>,\n",
       "  <matplotlib.patches.Wedge at 0x2b7810f0460>,\n",
       "  <matplotlib.patches.Wedge at 0x2b7810f0880>,\n",
       "  <matplotlib.patches.Wedge at 0x2b7810f0ca0>,\n",
       "  <matplotlib.patches.Wedge at 0x2b7810ff100>,\n",
       "  <matplotlib.patches.Wedge at 0x2b7810ff520>,\n",
       "  <matplotlib.patches.Wedge at 0x2b7810ff940>,\n",
       "  <matplotlib.patches.Wedge at 0x2b7810ffd60>,\n",
       "  <matplotlib.patches.Wedge at 0x2b78110f1c0>,\n",
       "  <matplotlib.patches.Wedge at 0x2b78110f5e0>,\n",
       "  <matplotlib.patches.Wedge at 0x2b78110fa00>,\n",
       "  <matplotlib.patches.Wedge at 0x2b78110fe20>,\n",
       "  <matplotlib.patches.Wedge at 0x2b78111d280>,\n",
       "  <matplotlib.patches.Wedge at 0x2b78111d6a0>,\n",
       "  <matplotlib.patches.Wedge at 0x2b78111dac0>,\n",
       "  <matplotlib.patches.Wedge at 0x2b78111dee0>,\n",
       "  <matplotlib.patches.Wedge at 0x2b78112c340>,\n",
       "  <matplotlib.patches.Wedge at 0x2b78112c760>,\n",
       "  <matplotlib.patches.Wedge at 0x2b78112cb80>,\n",
       "  <matplotlib.patches.Wedge at 0x2b78112cfa0>,\n",
       "  <matplotlib.patches.Wedge at 0x2b78113a400>,\n",
       "  <matplotlib.patches.Wedge at 0x2b78113a820>,\n",
       "  <matplotlib.patches.Wedge at 0x2b78113ac40>,\n",
       "  <matplotlib.patches.Wedge at 0x2b7811480a0>,\n",
       "  <matplotlib.patches.Wedge at 0x2b7811484c0>,\n",
       "  <matplotlib.patches.Wedge at 0x2b7811488e0>,\n",
       "  <matplotlib.patches.Wedge at 0x2b781148d00>,\n",
       "  <matplotlib.patches.Wedge at 0x2b781156160>,\n",
       "  <matplotlib.patches.Wedge at 0x2b781156580>,\n",
       "  <matplotlib.patches.Wedge at 0x2b7811569a0>,\n",
       "  <matplotlib.patches.Wedge at 0x2b781156dc0>,\n",
       "  <matplotlib.patches.Wedge at 0x2b781165220>,\n",
       "  <matplotlib.patches.Wedge at 0x2b781165640>,\n",
       "  <matplotlib.patches.Wedge at 0x2b781165a60>,\n",
       "  <matplotlib.patches.Wedge at 0x2b781165e80>,\n",
       "  <matplotlib.patches.Wedge at 0x2b7811732e0>,\n",
       "  <matplotlib.patches.Wedge at 0x2b781173700>,\n",
       "  <matplotlib.patches.Wedge at 0x2b781173b20>,\n",
       "  <matplotlib.patches.Wedge at 0x2b781173f40>,\n",
       "  <matplotlib.patches.Wedge at 0x2b7811803a0>,\n",
       "  <matplotlib.patches.Wedge at 0x2b7811807c0>,\n",
       "  <matplotlib.patches.Wedge at 0x2b781180be0>,\n",
       "  <matplotlib.patches.Wedge at 0x2b781180fd0>,\n",
       "  <matplotlib.patches.Wedge at 0x2b781190460>,\n",
       "  <matplotlib.patches.Wedge at 0x2b781190880>,\n",
       "  <matplotlib.patches.Wedge at 0x2b781190ca0>,\n",
       "  <matplotlib.patches.Wedge at 0x2b78119e100>,\n",
       "  <matplotlib.patches.Wedge at 0x2b78119e520>,\n",
       "  <matplotlib.patches.Wedge at 0x2b78119e940>,\n",
       "  <matplotlib.patches.Wedge at 0x2b78119ed60>,\n",
       "  <matplotlib.patches.Wedge at 0x2b7811ad1c0>,\n",
       "  <matplotlib.patches.Wedge at 0x2b7811ad5e0>,\n",
       "  <matplotlib.patches.Wedge at 0x2b7811ada00>,\n",
       "  <matplotlib.patches.Wedge at 0x2b7811ade20>,\n",
       "  <matplotlib.patches.Wedge at 0x2b7811bb280>,\n",
       "  <matplotlib.patches.Wedge at 0x2b7811bb6a0>,\n",
       "  <matplotlib.patches.Wedge at 0x2b7811bbac0>,\n",
       "  <matplotlib.patches.Wedge at 0x2b7811bbee0>,\n",
       "  <matplotlib.patches.Wedge at 0x2b7811cb340>,\n",
       "  <matplotlib.patches.Wedge at 0x2b7811cb760>,\n",
       "  <matplotlib.patches.Wedge at 0x2b7811cbb80>,\n",
       "  <matplotlib.patches.Wedge at 0x2b7811cbfa0>,\n",
       "  <matplotlib.patches.Wedge at 0x2b7811d8400>,\n",
       "  <matplotlib.patches.Wedge at 0x2b7811d8820>,\n",
       "  <matplotlib.patches.Wedge at 0x2b7811d8c40>,\n",
       "  <matplotlib.patches.Wedge at 0x2b7811e70a0>,\n",
       "  <matplotlib.patches.Wedge at 0x2b7811e74c0>,\n",
       "  <matplotlib.patches.Wedge at 0x2b7811e78e0>,\n",
       "  <matplotlib.patches.Wedge at 0x2b7811e7d00>,\n",
       "  <matplotlib.patches.Wedge at 0x2b7811f6160>,\n",
       "  <matplotlib.patches.Wedge at 0x2b7811f6580>,\n",
       "  <matplotlib.patches.Wedge at 0x2b7811f69a0>,\n",
       "  <matplotlib.patches.Wedge at 0x2b7811f6dc0>,\n",
       "  <matplotlib.patches.Wedge at 0x2b781204220>,\n",
       "  <matplotlib.patches.Wedge at 0x2b781204640>,\n",
       "  <matplotlib.patches.Wedge at 0x2b781204a60>],\n",
       " [Text(1.1, 0.0, ''),\n",
       "  Text(1.1, 0.0, ''),\n",
       "  Text(1.1, 0.0, ''),\n",
       "  Text(1.1, 0.0, ''),\n",
       "  Text(1.1, 0.0, ''),\n",
       "  Text(1.1, 0.0, ''),\n",
       "  Text(1.0989815266276273, 0.04732445595260655, ''),\n",
       "  Text(1.0959279924887089, 0.09456127790839536, ''),\n",
       "  Text(1.090845052025449, 0.14162299414853458, ''),\n",
       "  Text(1.0837421176733297, 0.1884224572096629, ''),\n",
       "  Text(1.074632342431448, 0.23487300526092736, ''),\n",
       "  Text(1.0635325955061894, 0.2808886225817419, ''),\n",
       "  Text(1.0635325955061894, 0.2808886225817419, ''),\n",
       "  Text(1.0635325955061894, 0.2808886225817419, ''),\n",
       "  Text(1.0504634310733425, 0.32638409884309827, ''),\n",
       "  Text(1.035449050216496, 0.37127518689747707, ''),\n",
       "  Text(1.035449050216496, 0.37127518689747707, ''),\n",
       "  Text(1.0185172561122053, 0.4154787587851689, ''),\n",
       "  Text(0.9790303358469434, 0.5014973594062301, ''),\n",
       "  Text(0.9565483303711487, 0.543153101495488, ''),\n",
       "  Text(0.9565483303711487, 0.543153101495488, ''),\n",
       "  Text(0.9322950176155891, 0.5838030490920277, ''),\n",
       "  Text(0.9063153091315976, 0.6233719278518216, ''),\n",
       "  Text(0.9063153091315976, 0.6233719278518216, ''),\n",
       "  Text(0.9063153091315976, 0.6233719278518216, ''),\n",
       "  Text(0.8786573133579256, 0.6617864653214302, ''),\n",
       "  Text(0.8493722465349882, 0.6989755266217176, ''),\n",
       "  Text(0.8185143378641812, 0.7348702461732693, ''),\n",
       "  Text(0.7861407290878828, 0.7694041552195909, ''),\n",
       "  Text(0.7861407290878828, 0.7694041552195909, ''),\n",
       "  Text(0.7861407290878828, 0.7694041552195909, ''),\n",
       "  Text(0.7861407290878828, 0.7694041552195909, ''),\n",
       "  Text(0.7523113686761048, 0.8025133049119411, ''),\n",
       "  Text(0.7170889008157266, 0.8341363847278772, ''),\n",
       "  Text(0.7170889008157266, 0.8341363847278772, ''),\n",
       "  Text(0.680538549407885, 0.8642148360042264, ''),\n",
       "  Text(0.6427279972883246, 0.8926929603742485, ''),\n",
       "  Text(0.6427279972883246, 0.8926929603742485, ''),\n",
       "  Text(0.6427279972883246, 0.8926929603742485, ''),\n",
       "  Text(0.6037272608943702, 0.919518022908187, ''),\n",
       "  Text(0.5636085606106039, 0.9446403497662184, ''),\n",
       "  Text(0.5636085606106039, 0.9446403497662184, ''),\n",
       "  Text(0.5224461870333409, 0.9680134201829661, ''),\n",
       "  Text(0.43729710444895625, 1.0093419848795346, ''),\n",
       "  Text(0.39346807193873345, 1.0272209481726977, ''),\n",
       "  Text(0.39346807193873345, 1.0272209481726977, ''),\n",
       "  Text(0.34891042714824083, 1.0431977347690284, ''),\n",
       "  Text(0.2579405391564061, 1.0693300137280832, ''),\n",
       "  Text(0.21169675124344134, 1.079437115126663, ''),\n",
       "  Text(0.16506094968655083, 1.087545347509047, ''),\n",
       "  Text(0.07095930671315989, 1.0977088761555989, ''),\n",
       "  Text(-0.023667694132834458, 1.0997453524586658, ''),\n",
       "  Text(-0.1181194676546766, 1.0936396990604245, ''),\n",
       "  Text(-0.21169672597739203, 1.0794371200817827, ''),\n",
       "  Text(-0.30370665583047907, 1.057242766446887, ''),\n",
       "  Text(-0.39346804789489165, 1.0272209573824822, ''),\n",
       "  Text(-0.4372970808236018, 1.0093419951152118, ''),\n",
       "  Text(-0.4803163402384297, 0.9895939638558641, ''),\n",
       "  Text(-0.5636085384997008, 0.9446403629584285, ''),\n",
       "  Text(-0.6037272393714972, 0.9195180370394435, ''),\n",
       "  Text(-0.6427279763933376, 0.8926929754183829, ''),\n",
       "  Text(-0.6805385291794765, 0.8642148519333808, ''),\n",
       "  Text(-0.6805385291794765, 0.8642148519333808, ''),\n",
       "  Text(-0.7170888812913552, 0.8341364015125541, ''),\n",
       "  Text(-0.8185143206633013, 0.7348702653319799, ''),\n",
       "  Text(-0.878657297867695, 0.661786485887889, ''),\n",
       "  Text(-0.878657297867695, 0.661786485887889, ''),\n",
       "  Text(-0.9063152945405243, 0.6233719490656625, ''),\n",
       "  Text(-0.9565483176577326, 0.5431531238851175, ''),\n",
       "  Text(-0.9790303241085502, 0.5014973823220888, ''),\n",
       "  Text(-0.9996993918032766, 0.45891298306776973, ''),\n",
       "  Text(-1.0504634234337709, 0.3263841234309695, ''),\n",
       "  Text(-1.0908450487105232, 0.1416230196816058, ''),\n",
       "  Text(-1.0999999999999999, 2.5747358557800545e-08, ''),\n",
       "  Text(-1.0908450553403741, -0.1416229686154632, ''),\n",
       "  Text(-1.0504634387129133, -0.3263840742552271, ''),\n",
       "  Text(-1.0185172658371873, -0.41547873494505155, ''),\n",
       "  Text(-0.979030347585336, -0.501497336490371, ''),\n",
       "  Text(-0.8786573288481554, -0.6617864447549714, ''),\n",
       "  Text(-0.7523113874602841, -0.8025132873028225, ''),\n",
       "  Text(-0.6037272824172427, -0.9195180087769304, ''),\n",
       "  Text(-0.43729712807431087, -1.0093419746438568, ''),\n",
       "  Text(-0.2579405641858817, -1.0693300076905488, ''),\n",
       "  Text(-0.07095933240689056, -1.0977088744946761, ''),\n",
       "  Text(0.11811944205619208, -1.09363970182521, ''),\n",
       "  Text(0.21169670071134306, -1.079437125036902, ''),\n",
       "  Text(0.21169670071134306, -1.079437125036902, ''),\n",
       "  Text(0.2579404890974549, -1.0693300258031502, ''),\n",
       "  Text(0.3934680238510495, -1.0272209665922665, ''),\n",
       "  Text(0.4803163170753108, -0.9895939750984792, ''),\n",
       "  Text(0.4803163170753108, -0.9895939750984792, ''),\n",
       "  Text(0.5224461417173617, -0.968013444640436, ''),\n",
       "  Text(0.6427279554983504, -0.8926929904625166, ''),\n",
       "  Text(0.7861406930694741, -0.7694041920214936, ''),\n",
       "  Text(0.8493722138135816, -0.6989755663837011, ''),\n",
       "  Text(0.8493722138135816, -0.6989755663837011, ''),\n",
       "  Text(0.9063152799494504, -0.6233719702795031, ''),\n",
       "  Text(0.9565483049443158, -0.5431531462747469, ''),\n",
       "  Text(0.9790303123701565, -0.5014974052379473, ''),\n",
       "  Text(0.9996993810616426, -0.458913006467423, ''),\n",
       "  Text(1.01851723666224, -0.41547880646540214, ''),\n",
       "  Text(1.0354490328358488, -0.37127523537034524, ''),\n",
       "  Text(1.0354490328358488, -0.37127523537034524, ''),\n",
       "  Text(1.0354490328358488, -0.37127523537034524, ''),\n",
       "  Text(1.0354490328358488, -0.37127523537034524, ''),\n",
       "  Text(1.0354490328358488, -0.37127523537034524, ''),\n",
       "  Text(1.0354490328358488, -0.37127523537034524, ''),\n",
       "  Text(1.0354490328358488, -0.37127523537034524, ''),\n",
       "  Text(1.0504634157941988, -0.32638414801884075, ''),\n",
       "  Text(1.0635325823568427, -0.28088867236929566, ''),\n",
       "  Text(1.0635325823568427, -0.28088867236929566, ''),\n",
       "  Text(1.0635325823568427, -0.28088867236929566, ''),\n",
       "  Text(1.0635325823568427, -0.28088867236929566, ''),\n",
       "  Text(1.0746323314362476, -0.2348730555680983, ''),\n",
       "  Text(1.0837421088526367, -0.18842250794329268, ''),\n",
       "  Text(1.090845045395597, -0.1416230452146772, ''),\n",
       "  Text(1.0989815244122083, -0.047324507399645006, ''),\n",
       "  Text(1.0999999999999988, -5.149471711560107e-08, ''),\n",
       "  Text(1.0999999999999988, -5.149471711560107e-08, '')])"
      ]
     },
     "execution_count": 113,
     "metadata": {},
     "output_type": "execute_result"
    },
    {
     "data": {
      "image/png": "[encoded data removed]",
      "text/plain": [
       "<Figure size 432x288 with 1 Axes>"
      ]
     },
     "metadata": {},
     "output_type": "display_data"
    }
   ],
   "source": [
    "plt.pie(mf[\"department\"],mf[])"
   ]
  },
  {
   "cell_type": "markdown",
   "metadata": {},
   "source": [
    "###### Department wise toppers (horizantal bar graph or any visual representations of your choice)"
   ]
  },
  {
   "cell_type": "code",
   "execution_count": 116,
   "metadata": {},
   "outputs": [
    {
     "data": {
      "text/plain": [
       "<BarContainer object of 119 artists>"
      ]
     },
     "execution_count": 116,
     "metadata": {},
     "output_type": "execute_result"
    },
    {
     "data": {
      "image/png": "[encoded data removed]",
      "text/plain": [
       "<Figure size 432x288 with 1 Axes>"
      ]
     },
     "metadata": {
      "needs_background": "light"
     },
     "output_type": "display_data"
    }
   ],
   "source": [
    "plt.bar(mf[\"department\"],mf[\"codekata_score\"])"
   ]
  },
  {
   "cell_type": "code",
   "execution_count": 126,
   "metadata": {},
   "outputs": [
    {
     "name": "stdout",
     "output_type": "stream",
     "text": [
      "                     name  python  mysql  previous_geekions  codekata_score  \\\n",
      "department                                                                    \n",
      "0               A.Dharani    82.0   20.0              24500           24500   \n",
      "1           KALAIARASAN K    85.0   47.0               7750            7880   \n",
      "2              k.parvathi   100.0  100.0                260             260   \n",
      "\n",
      "            rising  python_en  computational_thinking  \n",
      "department                                             \n",
      "0                0       20.0                     0.0  \n",
      "1              130        0.0                    -1.0  \n",
      "2                0        0.0                     9.0  \n"
     ]
    }
   ],
   "source": [
    "l=mf.groupby(\"department\")\n",
    "print(l.first())\n"
   ]
  },
  {
   "cell_type": "code",
   "execution_count": null,
   "metadata": {},
   "outputs": [],
   "source": []
  }
 ],
 "metadata": {
  "kernelspec": {
   "display_name": "Python 3",
   "language": "python",
   "name": "python3"
  },
  "language_info": {
   "codemirror_mode": {
    "name": "ipython",
    "version": 3
   },
   "file_extension": ".py",
   "mimetype": "text/x-python",
   "name": "python",
   "nbconvert_exporter": "python",
   "pygments_lexer": "ipython3",
   "version": "3.8.5"
  }
 },
 "nbformat": 4,
 "nbformat_minor": 2
}
